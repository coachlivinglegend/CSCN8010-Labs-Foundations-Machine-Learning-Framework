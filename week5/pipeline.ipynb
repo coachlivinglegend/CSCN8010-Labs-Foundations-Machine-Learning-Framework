{
 "cells": [
  {
   "cell_type": "code",
   "execution_count": 16,
   "metadata": {},
   "outputs": [],
   "source": [
    "# load diabetes dataset\n",
    "from sklearn.datasets import load_diabetes\n",
    "diabetes = load_diabetes()\n",
    "X, y = diabetes.data, diabetes.target\n",
    "\n",
    "# filter for the BMI feature\n",
    "X_BMI = X[:,2].reshape(-1,1)"
   ]
  },
  {
   "cell_type": "code",
   "execution_count": 17,
   "metadata": {},
   "outputs": [],
   "source": [
    "# Calculate the sizes of the splits\n",
    "train_size = int(len(X) * 0.7)\n",
    "valid_size = int(len(X) * 0.15)\n",
    "\n",
    "\n",
    "X_train = X_BMI[:train_size]\n",
    "X_valid = X_BMI[train_size:train_size + valid_size]\n",
    "X_test = X_BMI[train_size + valid_size:]\n",
    "\n",
    "y_train = y[:train_size]\n",
    "y_valid = y[train_size:train_size + valid_size]\n",
    "y_test = y[train_size + valid_size:]"
   ]
  },
  {
   "cell_type": "code",
   "execution_count": 18,
   "metadata": {},
   "outputs": [],
   "source": [
    "# from sklearn.model_selection import train_test_split\n",
    "# X_train, X_test, y_train, y_test = train_test_split(X_BMI, y, test_size=0.15, random_state=42)"
   ]
  },
  {
   "cell_type": "code",
   "execution_count": 19,
   "metadata": {},
   "outputs": [
    {
     "name": "stdout",
     "output_type": "stream",
     "text": [
      "Degree 2 polynomial regression cross-validation scores: 0.3538523087303762\n",
      "Degree 3 polynomial regression cross-validation scores: 0.3428571970809021\n"
     ]
    }
   ],
   "source": [
    "from sklearn.pipeline import make_pipeline\n",
    "from sklearn.preprocessing import PolynomialFeatures\n",
    "from sklearn.linear_model import LinearRegression\n",
    "from sklearn.model_selection import cross_val_score\n",
    "from sklearn.metrics import mean_absolute_error, mean_absolute_percentage_error, r2_score\n",
    "\n",
    "# Create pipelines for polynomial regression of degrees 2 and 3\n",
    "poly_reg_2 = make_pipeline(PolynomialFeatures(1), LinearRegression())\n",
    "poly_reg_3 = make_pipeline(PolynomialFeatures(3), LinearRegression())\n",
    "\n",
    "r2_poly_2 = r2_score(y_test, poly_reg_2.fit(X_train, y_train).predict(X_test))\n",
    "r2_poly_3 = r2_score(y_test, poly_reg_3.fit(X_train, y_train).predict(X_test))\n",
    "\n",
    "print(f\"Degree 2 polynomial regression cross-validation scores: {r2_poly_2}\")\n",
    "print(f\"Degree 3 polynomial regression cross-validation scores: {r2_poly_3}\")"
   ]
  }
 ],
 "metadata": {
  "kernelspec": {
   "display_name": "CSCN8010_classic_ml",
   "language": "python",
   "name": "cscn8010_classic_ml"
  },
  "language_info": {
   "codemirror_mode": {
    "name": "ipython",
    "version": 3
   },
   "file_extension": ".py",
   "mimetype": "text/x-python",
   "name": "python",
   "nbconvert_exporter": "python",
   "pygments_lexer": "ipython3",
   "version": "3.11.7"
  }
 },
 "nbformat": 4,
 "nbformat_minor": 2
}
